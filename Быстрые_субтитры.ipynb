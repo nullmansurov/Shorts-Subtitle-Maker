{
  "nbformat": 4,
  "nbformat_minor": 0,
  "metadata": {
    "colab": {
      "provenance": []
    },
    "kernelspec": {
      "name": "python3",
      "display_name": "Python 3"
    },
    "language_info": {
      "name": "python"
    }
  },
  "cells": [
    {
      "cell_type": "code",
      "source": [
        "# @title Установить компоненты\n",
        "from IPython.display import clear_output\n",
        "\n",
        "!pip install git+https://github.com/openai/whisper.git\n",
        "!pip install ffmpeg\n",
        "\n",
        "clear_output()\n",
        "print(\"Все готово к работе!\")"
      ],
      "metadata": {
        "cellView": "form",
        "id": "2koWrM2n3qLB"
      },
      "execution_count": null,
      "outputs": []
    },
    {
      "cell_type": "code",
      "execution_count": null,
      "metadata": {
        "cellView": "form",
        "id": "Du5hpVPZ2_8o"
      },
      "outputs": [],
      "source": [
        "# @title Создать субтитры\n",
        "# Импорт необходимых библиотек\n",
        "from google.colab import files\n",
        "import whisper\n",
        "\n",
        "# Загрузка файла с компьютера\n",
        "uploaded = files.upload()\n",
        "\n",
        "# Получение имени загруженного файла\n",
        "audio_path = next(iter(uploaded))\n",
        "\n",
        "# Настройка для сохранения субтитров\n",
        "save_sub = \"subtitles.srt\" # Имя файла субтитров\n",
        "\n",
        "# Поддерживаемые языки и коды\n",
        "language_codes = {\n",
        "    'Russian': 'ru',\n",
        "    'English': 'en',\n",
        "    'Japanese': 'ja'\n",
        "}\n",
        "\n",
        "# Выбор языка (например, \"English\", \"Russian\", \"Japanese\")\n",
        "target_language_name = 'English' # Измените на нужный язык\n",
        "language = language_codes[target_language_name]\n",
        "\n",
        "# Загрузка модели Whisper\n",
        "model = whisper.load_model(\"large\")\n",
        "\n",
        "# Функция для генерации субтитров\n",
        "def generate_subtitles(audio_path, output_srt_path, language='en'):\n",
        "    result = model.transcribe(audio_path, language=language)\n",
        "    segments = result['segments']\n",
        "\n",
        "    with open(output_srt_path, 'w', encoding='utf-8') as f:\n",
        "        for i, segment in enumerate(segments):\n",
        "            start = segment['start']\n",
        "            end = segment['end']\n",
        "            text = segment['text']\n",
        "\n",
        "            f.write(f\"{i+1}\\n\")\n",
        "            f.write(f\"{int(start // 3600):02}:{int((start % 3600) // 60):02}:{int(start % 60):02},{int((start % 1) * 1000):03} --> \")\n",
        "            f.write(f\"{int(end // 3600):02}:{int((end % 3600) // 60):02}:{int(end % 60):02},{int((end % 1) * 1000):03}\\n\")\n",
        "            f.write(f\"{text}\\n\\n\")\n",
        "\n",
        "# Генерация субтитров\n",
        "generate_subtitles(audio_path, save_sub, language=language)\n",
        "\n",
        "print(\"Субтитры успешно созданы!\")\n",
        "\n",
        "# Создание ссылки для скачивания субтитров\n",
        "from google.colab import files\n",
        "files.download(save_sub)\n"
      ]
    }
  ]
}